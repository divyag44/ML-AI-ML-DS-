{
 "cells": [
  {
   "cell_type": "markdown",
   "id": "ef6b7b15-912e-4a5f-9815-7e4ccd9c95dd",
   "metadata": {},
   "source": [
    "# Q1- Explain thK following with an example\n",
    "# a) Artificial intelligence\n",
    "# b) Machine learning\n",
    "# c) deep learning"
   ]
  },
  {
   "cell_type": "markdown",
   "id": "591358af-730a-42dd-978c-96a876d1fee1",
   "metadata": {},
   "source": [
    "## (Ans) a)AI= AI includes everything in it. AI stands for \"Artificial Intelligence.\" It refers to machines and systems that mimic human intelligence, enabling them to learn, reason, and perform tasks without direct human intervention.eg; self driving car, robots, etc.\n",
    "\n",
    "## b) ML= ML is subset of AI and it helps us to analyse, visulize & develop predictive model from data. eg- Netflix recommendation system.\n",
    "\n",
    "## c) DL = DL is deep learning which behaves to mimic humna beings. eg- Object detection image"
   ]
  },
  {
   "cell_type": "markdown",
   "id": "ed88ed58-bdf7-4a84-bcde-555c36bee97f",
   "metadata": {},
   "source": [
    "# Q2- What is supervised learning? List some examples of supervised learning."
   ]
  },
  {
   "cell_type": "markdown",
   "id": "77bc118f-ca2f-4d73-a1bf-19ef1c51f9d1",
   "metadata": {},
   "source": [
    "## (Ans) Supervised Machine Learning (ML) is a type of ML algorithm where the model is trained on labeled data, meaning the input data is paired with corresponding output labels. The goal is for the model to learn a mapping from inputs to outputs, enabling it to make predictions on new, unseen data. During training, the model learns by comparing its predictions to the actual labels and adjusting its parameters to minimize the prediction errors. In short, supervised ML is about learning from labeled examples to make accurate predictions on new data. eg- pass/fail in exam. It has also 2 types (1) classification and (2) regression"
   ]
  },
  {
   "cell_type": "markdown",
   "id": "76e98080-c66b-440b-a61a-6626006d0d43",
   "metadata": {},
   "source": [
    "# Q3- What is unsupervised learning? List some example of unsupervised learning."
   ]
  },
  {
   "cell_type": "markdown",
   "id": "4e713800-07fc-4294-9f2b-b41251edf789",
   "metadata": {},
   "source": [
    "## (Ans) Unsupervised Learning is a type of machine learning where the model is trained on unlabeled data, meaning there are no corresponding output labels provided during training. The objective is to discover underlying patterns, structures, or relationships within the data without specific guidance. The model learns to cluster similar data points or reduce the data's dimensionality to capture essential features. In short, unsupervised learning is about finding meaningful patterns and insights within data without explicit labels.eg- customer segmentation"
   ]
  },
  {
   "cell_type": "markdown",
   "id": "92889759-c3c9-4ae7-8267-cd63368a28e5",
   "metadata": {},
   "source": [
    "## Q4- What is the difference between AI, ML, DL, and DS?"
   ]
  },
  {
   "cell_type": "markdown",
   "id": "65e28861-590f-4523-a2ed-7f506e78691a",
   "metadata": {},
   "source": [
    "## (Ans) ML (Machine Learning): Machine Learning is a subset of Artificial Intelligence (AI) that involves the development of algorithms and statistical models that enable computers to learn from and make predictions or decisions based on data. ML algorithms can be supervised (learn from labeled data) or unsupervised (find patterns in unlabeled data) and are widely used in various applications like image recognition, natural language processing, recommendation systems, etc.\n",
    "\n",
    "## AI (Artificial Intelligence): Artificial Intelligence is a broad field of computer science focused on creating machines or systems that can perform tasks that typically require human intelligence. AI encompasses various technologies, including Machine Learning, Natural Language Processing, Computer Vision, Robotics, and more. The ultimate goal of AI is to create machines that can think, reason, and solve problems in a way that mimics human intelligence.\n",
    "\n",
    "## DS (Data Science): Data Science is an interdisciplinary field that combines domain expertise, programming skills, and statistical knowledge to extract meaningful insights and knowledge from data. Data Scientists collect, process, analyze, and interpret large datasets using various tools and techniques. Data Science includes aspects of data cleaning, data visualization, statistical analysis, and machine learning to solve complex problems and make data-driven decisions.\n",
    "\n",
    "## DL (Deep Learning): Deep Learning is a subset of Machine Learning that focuses on using artificial neural networks to model and solve complex problems. Deep Learning models, inspired by the human brain's structure, consist of multiple layers of interconnected neurons. These models can automatically learn hierarchical representations from data, allowing them to handle unstructured data like images, audio, and text. Deep Learning has shown remarkable success in tasks such as image and speech recognition, natural language processing, and many other AI applications.\n",
    "\n",
    "## In summary, Machine Learning is a subset of Artificial Intelligence that deals with developing algorithms to learn from data, while Data Science is an interdisciplinary field focused on extracting insights from data. Deep Learning is a specific approach within Machine Learning that utilizes neural networks to learn complex representations from data."
   ]
  },
  {
   "cell_type": "markdown",
   "id": "0cec80b0-ba69-4a03-9791-16dd88c1d6f6",
   "metadata": {},
   "source": [
    "# Q4- What are the difference between supervised, unsupervised, and semi-supervised learning?"
   ]
  },
  {
   "cell_type": "markdown",
   "id": "621bb44a-d647-4dbf-ab0e-370479f62a7e",
   "metadata": {},
   "source": [
    "## (Ans) Supervised Learning: Uses labeled data to train the model, where input data and corresponding output labels are provided. The model learns to make predictions based on the labeled examples it has seen during training.\n",
    "\n",
    "## Unsupervised Learning: Uses unlabeled data during training, where no output labels are provided. The model learns to find patterns, structures, or relationships within the data without explicit guidance.\n",
    "\n",
    "## Semi-Supervised Learning: A combination of supervised and unsupervised learning. It uses a small amount of labeled data along with a larger amount of unlabeled data. The model leverages both labeled and unlabeled data to learn and improve its performance."
   ]
  },
  {
   "cell_type": "markdown",
   "id": "b4fd08c1-e84f-41f5-b018-81965b3a66f4",
   "metadata": {},
   "source": [
    "# Q6- What is train, test and validation split? Explain the importance of each term."
   ]
  },
  {
   "cell_type": "markdown",
   "id": "e96b2dc3-9009-496f-84d9-774606a6108d",
   "metadata": {},
   "source": [
    "## (Ans) Train, Test, and Validation Split is a common practice in machine learning to divide a dataset into three subsets:\n",
    "\n",
    "## Train Set: The largest portion of the dataset used to train the machine learning model. The model learns from the patterns and relationships in this data during training. It does not contain the labels (answers) for the test cases.\n",
    "\n",
    "## Test Set: A separate subset of the data that the model has not seen during training. It contains both the input data and the corresponding output labels. The test set is used to evaluate the model's performance and measure how well it generalizes to new, unseen data.\n",
    "\n",
    "## Validation Set: An intermediate subset of the data used to fine-tune the model's hyperparameters and avoid overfitting. It helps in selecting the best model configuration during the training process. The validation set is essential when dealing with complex models or hyperparameters that could lead to overfitting on the test set."
   ]
  },
  {
   "cell_type": "markdown",
   "id": "f9a025dd-eba2-464c-81bc-82626e437ae2",
   "metadata": {},
   "source": [
    "# Q7- How can unsupervised learning be used in anomaly detection?"
   ]
  },
  {
   "cell_type": "markdown",
   "id": "7ed24c4c-cbbc-4db3-b21a-632dbb5162c8",
   "metadata": {},
   "source": [
    "## (Ans) In short, unsupervised learning can be used for anomaly detection by allowing the model to learn the normal patterns from unlabeled data. The model learns the underlying structure of the majority of the data and identifies deviations as anomalies. Any data points that significantly differ from the learned patterns are flagged as potential anomalies. This approach is valuable when labeled anomaly data is scarce or unavailable, as the model can adapt to various anomalies without explicit examples during training."
   ]
  },
  {
   "cell_type": "markdown",
   "id": "6d14bf6f-2903-4132-81d1-74d6ff8887fc",
   "metadata": {},
   "source": [
    "# Q8- List down some commonly used supervised learning algorithms and unsupervised learning algorithms."
   ]
  },
  {
   "cell_type": "markdown",
   "id": "10530406-6bd3-4fa8-a436-a4dd56d64381",
   "metadata": {},
   "source": [
    "## (Ans) Supervised Learning Algorithms:\n",
    "\n",
    "## Linear Regression: Predicts continuous values based on input features using a linear relationship. Logistic Regression: Classifies data into binary classes based on input features using a logistic function.Decision Trees: Builds a tree-like structure to make sequential decisions and classify or regress data. Random Forest: Ensemble method that combines multiple decision trees to improve accuracy and reduce overfitting.\n",
    "\n",
    "## Unsupervised Learning Algorithms:\n",
    "\n",
    "## K-Means Clustering: Divides data into k clusters based on similarity, where k is the number of desired clusters. Hierarchical Clustering: Builds a tree-like structure of nested clusters based on pairwise similarity. DBSCAN (Density-Based Spatial Clustering of Applications with Noise): Identifies clusters based on density in the feature space, suitable for non-linear data. Principal Component Analysis (PCA): Reduces data dimensionality by transforming it into a new orthogonal space while preserving variance.\n",
    "## Autoencoders: Neural network architecture used for unsupervised feature learning and data compression. Gaussian Mixture Models (GMM): Represents data as a mixture of several Gaussian distributions, suitable for modeling complex data distributions."
   ]
  },
  {
   "cell_type": "code",
   "execution_count": null,
   "id": "b2ae8649-121b-44af-901f-e698184b7a7f",
   "metadata": {},
   "outputs": [],
   "source": []
  }
 ],
 "metadata": {
  "kernelspec": {
   "display_name": "Python 3 (ipykernel)",
   "language": "python",
   "name": "python3"
  },
  "language_info": {
   "codemirror_mode": {
    "name": "ipython",
    "version": 3
   },
   "file_extension": ".py",
   "mimetype": "text/x-python",
   "name": "python",
   "nbconvert_exporter": "python",
   "pygments_lexer": "ipython3",
   "version": "3.10.8"
  }
 },
 "nbformat": 4,
 "nbformat_minor": 5
}
